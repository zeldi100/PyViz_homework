{
 "cells": [
  {
   "cell_type": "markdown",
   "metadata": {},
   "source": [
    "# Toronto Dwellings Analysis Dashboard\n",
    "\n",
    "In this notebook, you will compile the visualizations from the previous analysis into functions to create a Panel dashboard."
   ]
  },
  {
   "cell_type": "code",
   "execution_count": 18,
   "metadata": {},
   "outputs": [],
   "source": [
    "# initial imports\n",
    "import os\n",
    "import pandas as pd\n",
    "import matplotlib.pyplot as plt\n",
    "import plotly.express as px\n",
    "from pathlib import Path\n",
    "from dotenv import load_dotenv"
   ]
  },
  {
   "cell_type": "code",
   "execution_count": 19,
   "metadata": {},
   "outputs": [],
   "source": [
    "# Initialize the Panel Extensions (for Plotly)\n",
    "import panel as pn\n",
    "pn.extension(\"plotly\")"
   ]
  },
  {
   "cell_type": "code",
   "execution_count": 20,
   "metadata": {},
   "outputs": [],
   "source": [
    "# Read the Mapbox API key\n",
    "load_dotenv()\n",
    "map_box_api = os.getenv(\"mapbox\")\n",
    "px.set_mapbox_access_token(map_box_api)"
   ]
  },
  {
   "cell_type": "code",
   "execution_count": 21,
   "metadata": {},
   "outputs": [],
   "source": [
    "import hvplot.pandas"
   ]
  },
  {
   "cell_type": "markdown",
   "metadata": {},
   "source": [
    "# Import Data"
   ]
  },
  {
   "cell_type": "code",
   "execution_count": 22,
   "metadata": {},
   "outputs": [],
   "source": [
    "# Import the CSVs to Pandas DataFrames\n",
    "file_path = Path(\"Data/toronto_neighbourhoods_census_data.csv\")\n",
    "to_data = pd.read_csv(file_path, index_col=\"year\")\n",
    "\n",
    "file_path = Path(\"Data/toronto_neighbourhoods_coordinates.csv\")\n",
    "df_neighbourhood_locations = pd.read_csv(file_path)"
   ]
  },
  {
   "cell_type": "markdown",
   "metadata": {},
   "source": [
    "- - -"
   ]
  },
  {
   "cell_type": "markdown",
   "metadata": {},
   "source": [
    "## Panel Visualizations\n",
    "\n",
    "In this section, you will copy the code for each plot type from your analysis notebook and place it into separate functions that Panel can use to create panes for the dashboard. \n",
    "\n",
    "These functions will convert the plot object to a Panel pane.\n",
    "\n",
    "Be sure to include any DataFrame transformation/manipulation code required along with the plotting code.\n",
    "\n",
    "Return a Panel pane object from each function that can be used to build the dashboard.\n",
    "\n",
    "Note: Remove any `.show()` lines from the code. We want to return the plots instead of showing them. The Panel dashboard will then display the plots."
   ]
  },
  {
   "cell_type": "markdown",
   "metadata": {},
   "source": [
    "### Global available data"
   ]
  },
  {
   "cell_type": "code",
   "execution_count": 55,
   "metadata": {},
   "outputs": [
    {
     "data": {
      "text/html": [
       "<div>\n",
       "<style scoped>\n",
       "    .dataframe tbody tr th:only-of-type {\n",
       "        vertical-align: middle;\n",
       "    }\n",
       "\n",
       "    .dataframe tbody tr th {\n",
       "        vertical-align: top;\n",
       "    }\n",
       "\n",
       "    .dataframe thead th {\n",
       "        text-align: right;\n",
       "    }\n",
       "</style>\n",
       "<table border=\"1\" class=\"dataframe\">\n",
       "  <thead>\n",
       "    <tr style=\"text-align: right;\">\n",
       "      <th></th>\n",
       "      <th>single_detached_house</th>\n",
       "      <th>apartment_five_storeys_plus</th>\n",
       "      <th>movable_dwelling</th>\n",
       "      <th>semi_detached_house</th>\n",
       "      <th>row_house</th>\n",
       "      <th>duplex</th>\n",
       "      <th>apartment_five_storeys_less</th>\n",
       "      <th>other_house</th>\n",
       "    </tr>\n",
       "    <tr>\n",
       "      <th>year</th>\n",
       "      <th></th>\n",
       "      <th></th>\n",
       "      <th></th>\n",
       "      <th></th>\n",
       "      <th></th>\n",
       "      <th></th>\n",
       "      <th></th>\n",
       "      <th></th>\n",
       "    </tr>\n",
       "  </thead>\n",
       "  <tbody>\n",
       "    <tr>\n",
       "      <th>2001</th>\n",
       "      <td>300930</td>\n",
       "      <td>355015</td>\n",
       "      <td>75</td>\n",
       "      <td>90995</td>\n",
       "      <td>52355</td>\n",
       "      <td>23785</td>\n",
       "      <td>116900</td>\n",
       "      <td>3040</td>\n",
       "    </tr>\n",
       "    <tr>\n",
       "      <th>2006</th>\n",
       "      <td>266860</td>\n",
       "      <td>379400</td>\n",
       "      <td>165</td>\n",
       "      <td>69430</td>\n",
       "      <td>54690</td>\n",
       "      <td>44095</td>\n",
       "      <td>162850</td>\n",
       "      <td>1335</td>\n",
       "    </tr>\n",
       "    <tr>\n",
       "      <th>2011</th>\n",
       "      <td>274940</td>\n",
       "      <td>429220</td>\n",
       "      <td>100</td>\n",
       "      <td>72480</td>\n",
       "      <td>60355</td>\n",
       "      <td>44750</td>\n",
       "      <td>163895</td>\n",
       "      <td>2165</td>\n",
       "    </tr>\n",
       "    <tr>\n",
       "      <th>2016</th>\n",
       "      <td>269680</td>\n",
       "      <td>493270</td>\n",
       "      <td>95</td>\n",
       "      <td>71200</td>\n",
       "      <td>61565</td>\n",
       "      <td>48585</td>\n",
       "      <td>165575</td>\n",
       "      <td>2845</td>\n",
       "    </tr>\n",
       "  </tbody>\n",
       "</table>\n",
       "</div>"
      ],
      "text/plain": [
       "      single_detached_house  apartment_five_storeys_plus  movable_dwelling  \\\n",
       "year                                                                         \n",
       "2001                 300930                       355015                75   \n",
       "2006                 266860                       379400               165   \n",
       "2011                 274940                       429220               100   \n",
       "2016                 269680                       493270                95   \n",
       "\n",
       "      semi_detached_house  row_house  duplex  apartment_five_storeys_less  \\\n",
       "year                                                                        \n",
       "2001                90995      52355   23785                       116900   \n",
       "2006                69430      54690   44095                       162850   \n",
       "2011                72480      60355   44750                       163895   \n",
       "2016                71200      61565   48585                       165575   \n",
       "\n",
       "      other_house  \n",
       "year               \n",
       "2001         3040  \n",
       "2006         1335  \n",
       "2011         2165  \n",
       "2016         2845  "
      ]
     },
     "execution_count": 55,
     "metadata": {},
     "output_type": "execute_result"
    }
   ],
   "source": [
    "# Getting the data from the top 10 expensive neighbourhoods\n",
    "neighbourhood_data = to_data.reset_index()\n",
    "clean_neighbourhood_data = neighbourhood_data.drop(columns = ['year'])\n",
    "clean_neighbourhood_data = clean_neighbourhood_data.sort_values(['neighbourhood'])\n",
    "average_neighbourhood_data = clean_neighbourhood_data.groupby(['neighbourhood']).mean()\n",
    "\n",
    "\n",
    "high_average_neighbourhood_data = average_neighbourhood_data.sort_values(['average_house_value'], ascending=False)\n",
    "top10_neighbourhoods = high_average_neighbourhood_data.reset_index()\n",
    "top10_neighbourhoods_value = top10_neighbourhoods.nlargest(10, 'average_house_value')\n",
    "top10_neighbourhoods_value = top10_neighbourhoods_value.iloc[:, [0,9]]\n",
    "\n",
    "toronto_neighbourhood_data = to_data.groupby('year').sum()\n",
    "dwelling_types_per_year = toronto_neighbourhood_data.drop(\n",
    "    columns=['average_house_value','shelter_costs_owned','shelter_costs_rented'])\n",
    "\n",
    "# Calculate the mean number of dwelling types units per year\n",
    "data_per_year_per_neighbourhood = to_data.groupby(['year','neighbourhood']).mean()\n",
    "dwelling_per_year_per_neighbourhood = data_per_year_per_neighbourhood.drop(\n",
    "    columns=['average_house_value','shelter_costs_owned','shelter_costs_rented']).copy()\n",
    "dwelling_per_year_per_neighbourhood.reset_index(inplace=True)\n",
    "\n",
    "dwelling_per_year_per_neighbourhood.set_index('year', inplace = True)\n",
    "\n",
    "\n",
    "avg_house_values_neighbourhood = to_data[['neighbourhood','average_house_value']].groupby(['year','neighbourhood']).mean()\n",
    "\n",
    "# Calculate the average monthly shelter costs for owned and rented dwellings\n",
    "avg_house_value = to_data[['average_house_value']].groupby('year').mean()\n",
    "\n",
    "sorted_coordinates = df_neighbourhood_locations.sort_values(['neighbourhood']).set_index(['neighbourhood'])\n",
    "\n",
    "# Neighbourhoood coordinates\n",
    "neighbourhood_coordinates = pd.concat(\n",
    "    [sorted_coordinates, average_neighbourhood_data], axis = 1, join = \"inner\").reset_index()\n",
    "\n",
    "# Average house value per year\n",
    "neighbourhood_value_per_year = to_data.sort_values(['year','neighbourhood'])\n",
    "neighbourhood_value_peryear_plot = neighbourhood_value_per_year.reset_index()\n",
    "\n"
   ]
  },
  {
   "cell_type": "markdown",
   "metadata": {},
   "source": [
    "### Panel Visualization Functions"
   ]
  },
  {
   "cell_type": "code",
   "execution_count": 50,
   "metadata": {},
   "outputs": [],
   "source": [
    "# Define Panel visualization functions\n",
    "# Neighbourhoood map\n",
    "def neighbourhood_map():\n",
    "    map = px.scatter_mapbox(\n",
    "        neighbourhood_coordinates,\n",
    "        lat= \"lat\",\n",
    "        lon= \"lon\",\n",
    "        title = \"Average House Values in Toronto\",\n",
    "        color= \"average_house_value\",\n",
    "        size= \"average_house_value\",\n",
    "        hover_name = \"neighbourhood\",\n",
    "        hover_data = [\"single_detached_house\", \"apartment_five_storeys_plus\", \"movable_dwelling\", \n",
    "                      \"semi_detached_house\", \"row_house\", \"duplex\", \"apartment_five_storeys_less\", \n",
    "                      \"other_house\", \"shelter_costs_owned\", \"shelter_costs_rented\"],  \n",
    "        zoom = 8\n",
    "    )\n",
    "    neighbourhood_map_plot = pn.pane.Plotly(map)\n",
    "    return neighbourhood_map_plot\n",
    "\n",
    "# Dwelling types per year\n",
    "def create_bar_chart(data, title, xlabel, ylabel, color):\n",
    "    fig = plt.figure()\n",
    "    data.plot(kind=\"bar\", color = color, rot = 90)\n",
    "    plt.title(title, fontdict={'fontsize': 12, 'fontweight': 'bold'})\n",
    "    plt.xlabel(xlabel)\n",
    "    plt.ylabel(ylabel)\n",
    "\n",
    "    create_bar_chart(\n",
    "        dwelling_types_per_year.iloc[0], \n",
    "        'Dwelling Types in Toronto in 2001', \n",
    "        '2001', \n",
    "        'Dwelling Type Units', \n",
    "        'r' \n",
    "    )\n",
    "    create_bar_chart(\n",
    "        dwelling_types_per_year.iloc[1], \n",
    "        'Dwelling Types in Toronto in 2006', \n",
    "        '2006', \n",
    "        'Dwelling Type Units', \n",
    "        'b' \n",
    "    )\n",
    "    create_bar_chart(\n",
    "        dwelling_types_per_year.iloc[2], \n",
    "        'Dwelling Types in Toronto in 2011', \n",
    "        '2011', \n",
    "        'Dwelling Type Units', \n",
    "        'y' \n",
    "    )\n",
    "    create_bar_chart(\n",
    "        dwelling_types_per_year.iloc[3], \n",
    "        'Dwelling Types in Toronto in 2016', \n",
    "        '2016', \n",
    "        'Dwelling Type Units', \n",
    "        'm' \n",
    "    )    \n",
    "    \n",
    "    dwelling_types_toronto = pn.pane.Plotly(map)\n",
    "    return dwelling_types_toronto\n",
    "\n",
    "# Owned and rented Dwellings\n",
    "def create_line_chart(data, title, xlabel, ylabel, color):\n",
    "    data.plot(kind=\"line\", color = color)\n",
    "    plt.title(title, fontdict={'fontsize': 12, 'fontweight': 'bold'})\n",
    "    plt.xlabel(xlabel)\n",
    "    plt.ylabel(ylabel)\n",
    "    \n",
    "    # Line chart for owned dwellings\n",
    "    create_line_chart(\n",
    "        avg_monthly_shelter.loc[:, ['shelter_costs_owned']], \n",
    "        \"Average Monthly Shelter Cost for Owned Dwellings in Toronto\",\n",
    "        \"Year\",\n",
    "        \"Avg Monthly Shelter Costs\",\n",
    "        \"b\"\n",
    "    )  \n",
    "\n",
    "    # Line chart for rented dwellings\n",
    "    create_line_chart(\n",
    "        avg_monthly_shelter.loc[:, ['shelter_costs_rented']],\n",
    "        \"Average Monthly Shelter Cost for Rented Dwellings in Toronto\",\n",
    "        \"Year\",\n",
    "        \"Avg Monthly Shelter Costs\",\n",
    "        \"y\"\n",
    "    )\n",
    "\n",
    "    avg_monthly_shelter_costs = pn.pane.Plotly(map)\n",
    "    return avg_monthly_shelter_costs\n",
    "\n",
    "\n",
    "# Average House values per year for all\n",
    "def average_house_value():\n",
    "    avg_house_value.plot(kind = \"line\", color = 'c', title = \"Average House Value in Toronto\")\n",
    "    plt.xlabel(\"Year\")\n",
    "    plt.ylabel(\"Avg. House Value\")\n",
    "\n",
    "    avg_house_value_p_year = pn.pane.Plotly(map)\n",
    "    return avg_house_value_p_year\n",
    "\n",
    "# plot avg house values per year per neighbourhood\n",
    "def average_house_value_per_year():\n",
    "\n",
    "    fig = px.bar(\n",
    "        neighbourhood_value_peryear_plot,\n",
    "        title=\"Average House Values in Toronto per Neighbourhood\",\n",
    "        x= \"neighbourhood\", \n",
    "        y= \"average_house_value\", \n",
    "        color= \"average_house_value\", \n",
    "        facet_row= \"year\",\n",
    "        labels={\"average_house_value\": \"Avg. House Value\",\n",
    "                         \"neighbourhood\": \"Neighbourhood\"},\n",
    "        width = 1000,\n",
    "        height = 1000,\n",
    "    )\n",
    "\n",
    "    fig.update_layout( \n",
    "        legend_title= \"Avg. House Value\",\n",
    "        font = dict(size=10))\n",
    "    fig.show()\n",
    "    \n",
    "    avg_house_value_per_year = pn.pane.Plotly(map)\n",
    "    return avg_house_value_per_year\n",
    "\n",
    "# Average house value by neighbourhood\n",
    "def average_value_by_neighbourhood():\n",
    "    avg_house_values_neighbourhood.hvplot.line(groupby='neighbourhood', xlabel = \"Year\", ylabel = \"Avg. House Value\")    \n",
    "\n",
    "    avg_house_values_by_neighbourhood = pn.pane.Plotly(map)\n",
    "    return avg_house_values_by_neighbourhood\n",
    "\n",
    "\n",
    "# Number of dwelling types per year\n",
    "def number_dwelling_types():\n",
    "    dwelling_per_year_per_neighbourhood.hvplot.bar(\n",
    "        groupby='neighbourhood', \n",
    "        rot = 90, \n",
    "        frame_height = 250, \n",
    "        frame_width=500, \n",
    "        xlabel=\"Year\", \n",
    "        ylabel = \"Dwelling Type Units\"\n",
    "    )\n",
    "\n",
    "    number_of_dwelling_types = pn.pane.Plotly(map)\n",
    "    return number_of_dwelling_types\n",
    "\n",
    "\n",
    "\n",
    "def top_most_expensive_neighbourhoods():   \n",
    "    top10_neighbourhoods_value.hvplot.bar(\n",
    "        title = \"Top 10 Expensive Neighbourhoods in Toronto\", \n",
    "        ylabel = \"Avg. House Value\", \n",
    "        xlabel = \"Neighbourhood\", \n",
    "        frame_height = 250, \n",
    "        frame_width=500, \n",
    "        rot=90\n",
    "    )\n",
    "    top10_neighbourhood_value_toronto = pn.pane.Plotly(map)\n",
    "    return top10_neighbourhood_value_toronto\n",
    "    \n",
    "    \n",
    "def sunburts_cost_analysis(): \n",
    "    fig =px.sunburst(\n",
    "        highest_neighbourhood_value,\n",
    "        path = ['year', 'neighbourhood'],\n",
    "        hover_data = ['shelter_costs_rented'],\n",
    "        values='average_house_value',\n",
    "        color = 'shelter_costs_owned',\n",
    "        color_continuous_scale = 'ice',\n",
    "        title = 'Cost Analysis of Most Expensive Neighbourhoods in Toronto per Year'\n",
    "    )\n",
    "\n",
    "    fig.show()\n",
    "\n",
    "    cost_analysis_neighbourhood = pn.pane.Plotly(map)\n",
    "    return cost_analysis_neighbourhood\n",
    "\n",
    "# Neighbourhood value per year plot\n",
    "\n"
   ]
  },
  {
   "cell_type": "markdown",
   "metadata": {},
   "source": [
    "## Panel Dashboard\n",
    "\n",
    "In this section, you will combine all of the plots into a single dashboard view using Panel. Be creative with your dashboard design!"
   ]
  },
  {
   "cell_type": "code",
   "execution_count": null,
   "metadata": {},
   "outputs": [],
   "source": [
    "# Create a Title for the Dashboard\n",
    "dashboard_title = pn.pane.Markdown('   Real Estate Analysis for Toronto - 2001 to 2016  ')\n",
    "\n",
    "\n",
    "\n",
    "# Define a welcome text\n",
    "welcome_text = pn.pane.Markdown(' This dashboard includes a visual analysis of historical house values, dwelling types per </br> neighbourhood and dwelling costs in Toronto, Ontario according to census data from 2001 to 2016. Navigation is possible through the above tabs to delve into more details on the real estate data over this time period')\n",
    "\n",
    "welcome_column = pn.Column(dashboard_title, welcome_text, neighbourhood_map())\n",
    "\n",
    "\n",
    "# Create panels to structure the layout of the dashboard\n",
    "neighbourhood_column = pn.Column(average_value_by_neighbourhood(),number_dwelling_types(), average_house_value_per_year())\n",
    "\n",
    "top_expensive_neighbourhoods_column = pn.Column(top_most_expensive_neighbourhoods(),sunburts_cost_analysis())\n",
    "\n",
    "yearly_market_analysis_column = pn.Column(create_bar_chart(data, title, xlabel, ylabel, color))\n",
    "\n",
    "shelter_cost_house_value_column = pn.Column(average_house_value())\n",
    "\n",
    "\n",
    "# Create tabs\n",
    "dashboard_tabs = pn.Tabs(\n",
    "    (\"Welcome\", welcome_column), \n",
    "    (\"Yearly Market Analysis\", yearly_market_analysis_column), \n",
    "    (\"Shelter Costs vs. House Value\", shelter_cost_house_value_column), \n",
    "    (\"Neighbourhood Analysis\", neighbourhood_column), \n",
    "    (\"Top Expensive Neighbourhoods\", top_expensive_neighbourhoods_column)\n",
    ")\n"
   ]
  },
  {
   "cell_type": "markdown",
   "metadata": {},
   "source": [
    "## Serve the Panel Dashboard"
   ]
  },
  {
   "cell_type": "code",
   "execution_count": null,
   "metadata": {},
   "outputs": [],
   "source": [
    "dashboard_tabs.servable()"
   ]
  },
  {
   "cell_type": "markdown",
   "metadata": {},
   "source": [
    "# Debugging\n",
    "\n",
    "Note: Some of the Plotly express plots may not render in the notebook through the panel functions.\n",
    "\n",
    "However, you can test each plot by uncommenting the following code"
   ]
  },
  {
   "cell_type": "code",
   "execution_count": 53,
   "metadata": {},
   "outputs": [
    {
     "name": "stdout",
     "output_type": "stream",
     "text": [
      "Launching server at http://localhost:52061\n"
     ]
    },
    {
     "data": {
      "text/plain": [
       "<bokeh.server.server.Server at 0x7fec444db990>"
      ]
     },
     "execution_count": 53,
     "metadata": {},
     "output_type": "execute_result"
    }
   ],
   "source": [
    "#neighbourhood_map().show()"
   ]
  },
  {
   "cell_type": "code",
   "execution_count": 58,
   "metadata": {},
   "outputs": [
    {
     "ename": "NameError",
     "evalue": "name 'data' is not defined",
     "output_type": "error",
     "traceback": [
      "\u001b[0;31m---------------------------------------------------------------------------\u001b[0m",
      "\u001b[0;31mNameError\u001b[0m                                 Traceback (most recent call last)",
      "\u001b[0;32m<ipython-input-58-8cfdd392f8ba>\u001b[0m in \u001b[0;36m<module>\u001b[0;34m\u001b[0m\n\u001b[0;32m----> 1\u001b[0;31m \u001b[0mcreate_bar_chart\u001b[0m\u001b[0;34m(\u001b[0m\u001b[0mdata\u001b[0m\u001b[0;34m,\u001b[0m \u001b[0mtitle\u001b[0m\u001b[0;34m,\u001b[0m \u001b[0mxlabel\u001b[0m\u001b[0;34m,\u001b[0m \u001b[0mylabel\u001b[0m\u001b[0;34m,\u001b[0m \u001b[0mcolor\u001b[0m\u001b[0;34m)\u001b[0m\u001b[0;34m\u001b[0m\u001b[0;34m\u001b[0m\u001b[0m\n\u001b[0m\u001b[1;32m      2\u001b[0m \u001b[0;34m\u001b[0m\u001b[0m\n\u001b[1;32m      3\u001b[0m \u001b[0;31m# Bar chart for 2001\u001b[0m\u001b[0;34m\u001b[0m\u001b[0;34m\u001b[0m\u001b[0;34m\u001b[0m\u001b[0m\n\u001b[1;32m      4\u001b[0m \u001b[0mcreate_bar_chart\u001b[0m\u001b[0;34m(\u001b[0m\u001b[0mdwelling_types_per_year\u001b[0m\u001b[0;34m.\u001b[0m\u001b[0mloc\u001b[0m\u001b[0;34m[\u001b[0m\u001b[0;36m2001\u001b[0m\u001b[0;34m]\u001b[0m\u001b[0;34m,\u001b[0m \u001b[0;34m\"Dwelling Types in Toronto in 2001\"\u001b[0m\u001b[0;34m,\u001b[0m \u001b[0;34m\"2001\"\u001b[0m\u001b[0;34m,\u001b[0m \u001b[0;34m\"Dwelling Type Units\"\u001b[0m\u001b[0;34m,\u001b[0m \u001b[0;34m\"red\"\u001b[0m\u001b[0;34m)\u001b[0m\u001b[0;34m\u001b[0m\u001b[0;34m\u001b[0m\u001b[0m\n\u001b[1;32m      5\u001b[0m \u001b[0;34m\u001b[0m\u001b[0m\n",
      "\u001b[0;31mNameError\u001b[0m: name 'data' is not defined"
     ]
    }
   ],
   "source": [
    "create_bar_chart(data, title, xlabel, ylabel, color)\n",
    "\n",
    "# Bar chart for 2001\n",
    "create_bar_chart(dwelling_types_per_year.loc[2001], \"Dwelling Types in Toronto in 2001\", \"2001\", \"Dwelling Type Units\", \"red\")\n",
    "\n",
    "# Bar chart for 2006\n",
    "# create_bar_chart(dwelling_types_per_year.loc[2006], \"Dwelling Types in Toronto in 2006\", \"2006\", \"Dwelling Type Units\", \"blue\")\n",
    "\n",
    "# Bar chart for 2011\n",
    "# create_bar_chart(dwelling_types_per_year.loc[2011], \"Dwelling Types in Toronto in 2011\", \"2011\", \"Dwelling Type Units\", \"orange\")\n",
    "\n",
    "# Bar chart for 2016\n",
    "# create_bar_chart(dwelling_types_per_year.loc[2016], \"Dwelling Types in Toronto in 2016\", \"2016\", \"Dwelling Type Units\", \"magenta\")"
   ]
  },
  {
   "cell_type": "code",
   "execution_count": 11,
   "metadata": {},
   "outputs": [],
   "source": [
    "# create_line_chart(data, title, xlabel, ylabel, color)\n",
    "\n",
    "# # Line chart for owned dwellings\n",
    "# create_line_chart(df_avg_costs[\"shelter_costs_owned\"], \"Average Monthly Shelter Cost for Owned Dwellings in Toronto\", \"Year\", \"Avg Monthly Shelter Costs\", \"blue\")\n",
    "\n",
    "# # Line chart for rented dwellings\n",
    "# create_line_chart(df_avg_costs[\"shelter_costs_rented\"], \"Average Monthly Shelter Cost for Rented Dwellings in Toronto\", \"Year\", \"Avg Monthly Shelter Costs\", \"orange\")"
   ]
  },
  {
   "cell_type": "code",
   "execution_count": 56,
   "metadata": {},
   "outputs": [
    {
     "ename": "ValueError",
     "evalue": "Plotly pane does not support objects of type 'type'.",
     "output_type": "error",
     "traceback": [
      "\u001b[0;31m---------------------------------------------------------------------------\u001b[0m",
      "\u001b[0;31mValueError\u001b[0m                                Traceback (most recent call last)",
      "\u001b[0;32m<ipython-input-56-81b7aca6f58d>\u001b[0m in \u001b[0;36m<module>\u001b[0;34m\u001b[0m\n\u001b[0;32m----> 1\u001b[0;31m \u001b[0maverage_house_value\u001b[0m\u001b[0;34m(\u001b[0m\u001b[0;34m)\u001b[0m\u001b[0;34m\u001b[0m\u001b[0;34m\u001b[0m\u001b[0m\n\u001b[0m",
      "\u001b[0;32m<ipython-input-50-446dacb885b8>\u001b[0m in \u001b[0;36maverage_house_value\u001b[0;34m()\u001b[0m\n\u001b[1;32m     93\u001b[0m     \u001b[0mplt\u001b[0m\u001b[0;34m.\u001b[0m\u001b[0mylabel\u001b[0m\u001b[0;34m(\u001b[0m\u001b[0;34m\"Avg. House Value\"\u001b[0m\u001b[0;34m)\u001b[0m\u001b[0;34m\u001b[0m\u001b[0;34m\u001b[0m\u001b[0m\n\u001b[1;32m     94\u001b[0m \u001b[0;34m\u001b[0m\u001b[0m\n\u001b[0;32m---> 95\u001b[0;31m     \u001b[0mavg_house_value_p_year\u001b[0m \u001b[0;34m=\u001b[0m \u001b[0mpn\u001b[0m\u001b[0;34m.\u001b[0m\u001b[0mpane\u001b[0m\u001b[0;34m.\u001b[0m\u001b[0mPlotly\u001b[0m\u001b[0;34m(\u001b[0m\u001b[0mmap\u001b[0m\u001b[0;34m)\u001b[0m\u001b[0;34m\u001b[0m\u001b[0;34m\u001b[0m\u001b[0m\n\u001b[0m\u001b[1;32m     96\u001b[0m     \u001b[0;32mreturn\u001b[0m \u001b[0mavg_house_value_p_year\u001b[0m\u001b[0;34m\u001b[0m\u001b[0;34m\u001b[0m\u001b[0m\n\u001b[1;32m     97\u001b[0m \u001b[0;34m\u001b[0m\u001b[0m\n",
      "\u001b[0;32m~/opt/anaconda3/envs/pyvizenv/lib/python3.7/site-packages/panel/pane/plotly.py\u001b[0m in \u001b[0;36m__init__\u001b[0;34m(self, object, **params)\u001b[0m\n\u001b[1;32m     72\u001b[0m \u001b[0;34m\u001b[0m\u001b[0m\n\u001b[1;32m     73\u001b[0m     \u001b[0;32mdef\u001b[0m \u001b[0m__init__\u001b[0m\u001b[0;34m(\u001b[0m\u001b[0mself\u001b[0m\u001b[0;34m,\u001b[0m \u001b[0mobject\u001b[0m\u001b[0;34m=\u001b[0m\u001b[0;32mNone\u001b[0m\u001b[0;34m,\u001b[0m \u001b[0;34m**\u001b[0m\u001b[0mparams\u001b[0m\u001b[0;34m)\u001b[0m\u001b[0;34m:\u001b[0m\u001b[0;34m\u001b[0m\u001b[0;34m\u001b[0m\u001b[0m\n\u001b[0;32m---> 74\u001b[0;31m         \u001b[0msuper\u001b[0m\u001b[0;34m(\u001b[0m\u001b[0mPlotly\u001b[0m\u001b[0;34m,\u001b[0m \u001b[0mself\u001b[0m\u001b[0;34m)\u001b[0m\u001b[0;34m.\u001b[0m\u001b[0m__init__\u001b[0m\u001b[0;34m(\u001b[0m\u001b[0mobject\u001b[0m\u001b[0;34m,\u001b[0m \u001b[0;34m**\u001b[0m\u001b[0mparams\u001b[0m\u001b[0;34m)\u001b[0m\u001b[0;34m\u001b[0m\u001b[0;34m\u001b[0m\u001b[0m\n\u001b[0m\u001b[1;32m     75\u001b[0m         \u001b[0mself\u001b[0m\u001b[0;34m.\u001b[0m\u001b[0m_figure\u001b[0m \u001b[0;34m=\u001b[0m \u001b[0;32mNone\u001b[0m\u001b[0;34m\u001b[0m\u001b[0;34m\u001b[0m\u001b[0m\n\u001b[1;32m     76\u001b[0m         \u001b[0mself\u001b[0m\u001b[0;34m.\u001b[0m\u001b[0m_update_figure\u001b[0m\u001b[0;34m(\u001b[0m\u001b[0;34m)\u001b[0m\u001b[0;34m\u001b[0m\u001b[0;34m\u001b[0m\u001b[0m\n",
      "\u001b[0;32m~/opt/anaconda3/envs/pyvizenv/lib/python3.7/site-packages/panel/pane/base.py\u001b[0m in \u001b[0;36m__init__\u001b[0;34m(self, object, **params)\u001b[0m\n\u001b[1;32m    107\u001b[0m         \u001b[0mapplies\u001b[0m \u001b[0;34m=\u001b[0m \u001b[0mself\u001b[0m\u001b[0;34m.\u001b[0m\u001b[0mapplies\u001b[0m\u001b[0;34m(\u001b[0m\u001b[0mobject\u001b[0m\u001b[0;34m,\u001b[0m \u001b[0;34m**\u001b[0m\u001b[0;34m(\u001b[0m\u001b[0mparams\u001b[0m \u001b[0;32mif\u001b[0m \u001b[0mself\u001b[0m\u001b[0;34m.\u001b[0m\u001b[0m_applies_kw\u001b[0m \u001b[0;32melse\u001b[0m \u001b[0;34m{\u001b[0m\u001b[0;34m}\u001b[0m\u001b[0;34m)\u001b[0m\u001b[0;34m)\u001b[0m\u001b[0;34m\u001b[0m\u001b[0;34m\u001b[0m\u001b[0m\n\u001b[1;32m    108\u001b[0m         \u001b[0;32mif\u001b[0m \u001b[0;34m(\u001b[0m\u001b[0misinstance\u001b[0m\u001b[0;34m(\u001b[0m\u001b[0mapplies\u001b[0m\u001b[0;34m,\u001b[0m \u001b[0mbool\u001b[0m\u001b[0;34m)\u001b[0m \u001b[0;32mand\u001b[0m \u001b[0;32mnot\u001b[0m \u001b[0mapplies\u001b[0m\u001b[0;34m)\u001b[0m \u001b[0;32mand\u001b[0m \u001b[0mobject\u001b[0m \u001b[0;32mis\u001b[0m \u001b[0;32mnot\u001b[0m \u001b[0;32mNone\u001b[0m \u001b[0;34m:\u001b[0m\u001b[0;34m\u001b[0m\u001b[0;34m\u001b[0m\u001b[0m\n\u001b[0;32m--> 109\u001b[0;31m             \u001b[0mself\u001b[0m\u001b[0;34m.\u001b[0m\u001b[0m_type_error\u001b[0m\u001b[0;34m(\u001b[0m\u001b[0mobject\u001b[0m\u001b[0;34m)\u001b[0m\u001b[0;34m\u001b[0m\u001b[0;34m\u001b[0m\u001b[0m\n\u001b[0m\u001b[1;32m    110\u001b[0m \u001b[0;34m\u001b[0m\u001b[0m\n\u001b[1;32m    111\u001b[0m         \u001b[0msuper\u001b[0m\u001b[0;34m(\u001b[0m\u001b[0mPaneBase\u001b[0m\u001b[0;34m,\u001b[0m \u001b[0mself\u001b[0m\u001b[0;34m)\u001b[0m\u001b[0;34m.\u001b[0m\u001b[0m__init__\u001b[0m\u001b[0;34m(\u001b[0m\u001b[0mobject\u001b[0m\u001b[0;34m=\u001b[0m\u001b[0mobject\u001b[0m\u001b[0;34m,\u001b[0m \u001b[0;34m**\u001b[0m\u001b[0mparams\u001b[0m\u001b[0;34m)\u001b[0m\u001b[0;34m\u001b[0m\u001b[0;34m\u001b[0m\u001b[0m\n",
      "\u001b[0;32m~/opt/anaconda3/envs/pyvizenv/lib/python3.7/site-packages/panel/pane/base.py\u001b[0m in \u001b[0;36m_type_error\u001b[0;34m(self, object)\u001b[0m\n\u001b[1;32m    117\u001b[0m     \u001b[0;32mdef\u001b[0m \u001b[0m_type_error\u001b[0m\u001b[0;34m(\u001b[0m\u001b[0mself\u001b[0m\u001b[0;34m,\u001b[0m \u001b[0mobject\u001b[0m\u001b[0;34m)\u001b[0m\u001b[0;34m:\u001b[0m\u001b[0;34m\u001b[0m\u001b[0;34m\u001b[0m\u001b[0m\n\u001b[1;32m    118\u001b[0m         raise ValueError(\"%s pane does not support objects of type '%s'.\" %\n\u001b[0;32m--> 119\u001b[0;31m                          (type(self).__name__, type(object).__name__))\n\u001b[0m\u001b[1;32m    120\u001b[0m \u001b[0;34m\u001b[0m\u001b[0m\n\u001b[1;32m    121\u001b[0m     \u001b[0;32mdef\u001b[0m \u001b[0m__repr__\u001b[0m\u001b[0;34m(\u001b[0m\u001b[0mself\u001b[0m\u001b[0;34m,\u001b[0m \u001b[0mdepth\u001b[0m\u001b[0;34m=\u001b[0m\u001b[0;36m0\u001b[0m\u001b[0;34m)\u001b[0m\u001b[0;34m:\u001b[0m\u001b[0;34m\u001b[0m\u001b[0;34m\u001b[0m\u001b[0m\n",
      "\u001b[0;31mValueError\u001b[0m: Plotly pane does not support objects of type 'type'."
     ]
    },
    {
     "data": {
      "image/png": "[encoded data removed]",
      "text/plain": [
       "<Figure size 432x288 with 1 Axes>"
      ]
     },
     "metadata": {
      "needs_background": "light"
     },
     "output_type": "display_data"
    }
   ],
   "source": [
    "# average_house_value()"
   ]
  },
  {
   "cell_type": "code",
   "execution_count": 13,
   "metadata": {},
   "outputs": [],
   "source": [
    "# average_value_by_neighbourhood()"
   ]
  },
  {
   "cell_type": "code",
   "execution_count": 14,
   "metadata": {},
   "outputs": [],
   "source": [
    "# number_dwelling_types()"
   ]
  },
  {
   "cell_type": "code",
   "execution_count": 15,
   "metadata": {},
   "outputs": [],
   "source": [
    "# average_house_value_snapshot()"
   ]
  },
  {
   "cell_type": "code",
   "execution_count": 16,
   "metadata": {},
   "outputs": [],
   "source": [
    "# top_most_expensive_neighbourhoods()"
   ]
  },
  {
   "cell_type": "code",
   "execution_count": 17,
   "metadata": {},
   "outputs": [],
   "source": [
    "# sunburts_cost_analysis()"
   ]
  }
 ],
 "metadata": {
  "file_extension": ".py",
  "kernelspec": {
   "display_name": "Python [conda env:pyvizenv] *",
   "language": "python",
   "name": "conda-env-pyvizenv-py"
  },
  "language_info": {
   "codemirror_mode": {
    "name": "ipython",
    "version": 3
   },
   "file_extension": ".py",
   "mimetype": "text/x-python",
   "name": "python",
   "nbconvert_exporter": "python",
   "pygments_lexer": "ipython3",
   "version": "3.7.7"
  },
  "mimetype": "text/x-python",
  "name": "python",
  "npconvert_exporter": "python",
  "pygments_lexer": "ipython3",
  "version": 3
 },
 "nbformat": 4,
 "nbformat_minor": 4
}
